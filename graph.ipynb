{
 "cells": [
  {
   "cell_type": "markdown",
   "metadata": {},
   "source": [
    "# PySpark and GraphFrame"
   ]
  },
  {
   "cell_type": "code",
   "execution_count": 1,
   "metadata": {},
   "outputs": [],
   "source": [
    "from pyspark import SparkConf\n",
    "from pyspark.context import SparkContext\n",
    "from pyspark.sql.session import SparkSession\n",
    "from graphframes import *\n",
    "from graphframes.examples import Graphs"
   ]
  },
  {
   "cell_type": "code",
   "execution_count": 2,
   "metadata": {},
   "outputs": [],
   "source": [
    "# spark session and context setup\n",
    "\n",
    "conf = SparkConf().setAppName('app').setMaster('local')\n",
    "sc = SparkContext.getOrCreate(conf)\n",
    "spark = SparkSession(sc)"
   ]
  },
  {
   "cell_type": "code",
   "execution_count": 47,
   "metadata": {},
   "outputs": [],
   "source": [
    "# Read csv and create graph object\n",
    "\n",
    "nodes = spark.read.csv('data/cities.csv', header=True)\n",
    "rels = spark.read.csv('data/relationship.csv', header=True)\n",
    "graph = GraphFrame(nodes, rels)"
   ]
  },
  {
   "cell_type": "code",
   "execution_count": 4,
   "metadata": {
    "scrolled": true
   },
   "outputs": [
    {
     "name": "stdout",
     "output_type": "stream",
     "text": [
      "+---------+---------+-------------+---------+\n",
      "|       id| latitude|    longitude|populacao|\n",
      "+---------+---------+-------------+---------+\n",
      "|   Recife|8.0522° S|   34.9286° W|  1645727|\n",
      "|   Olinda|7.9907° S| \"34.8416° W\"|   392482|\n",
      "|  Caruaru|8.2760° S|   35.9819° W|   361118|\n",
      "|Tamandare|8.7579° S|   35.1051° W|    23388|\n",
      "| Floresta|8.5969° S|   38.5744° W|    32873|\n",
      "|Garanhuns|8.8829° S|   36.4969° W|   139788|\n",
      "|  Gravata|8.2116° S|   35.5678° W|    84074|\n",
      "|  Carpina|7.8450° S|   35.2437° W|    83641|\n",
      "|   Buique|8.6211° S|   37.1572° W|    58378|\n",
      "|  Cabrobo|8.5082° S|   39.3103° W|    34221|\n",
      "+---------+---------+-------------+---------+\n",
      "\n"
     ]
    }
   ],
   "source": [
    "# Show graph vetices\n",
    "\n",
    "graph.vertices.show()"
   ]
  },
  {
   "cell_type": "code",
   "execution_count": 5,
   "metadata": {
    "scrolled": true
   },
   "outputs": [
    {
     "name": "stdout",
     "output_type": "stream",
     "text": [
      "+---------+---------+------------+\n",
      "|      src|      dst|relationship|\n",
      "+---------+---------+------------+\n",
      "|   Recife|   Olinda|    Favorito|\n",
      "|   Recife|  Caruaru|    Favorito|\n",
      "|   Recife|Tamandare|    Favorito|\n",
      "|  Caruaru|Tamandare|       Barro|\n",
      "|  Caruaru|  Gravata|    Perigoso|\n",
      "|  Gravata|   Recife|       Barro|\n",
      "|  Caruaru|   Olinda|       Barro|\n",
      "|   Olinda|  Gravata|    Perigoso|\n",
      "|  Cabrobo|   Recife|       Barro|\n",
      "|  Cabrobo|  Gravata|    Perigoso|\n",
      "|   Recife|Garanhuns|    Favorito|\n",
      "|   Recife|  Gravata|       Barro|\n",
      "|   Recife|  Cabrobo|    Favorito|\n",
      "|  Cabrobo|   Olinda|    Favorito|\n",
      "|  Carpina|   Olinda|       Barro|\n",
      "|  Carpina|  Gravata|    Perigoso|\n",
      "|Garanhuns|  Gravata|    Perigoso|\n",
      "|Garanhuns|   Recife|    Favorito|\n",
      "|Garanhuns|   Buique|    Favorito|\n",
      "|   Buique| Floresta|    Perigoso|\n",
      "+---------+---------+------------+\n",
      "only showing top 20 rows\n",
      "\n"
     ]
    }
   ],
   "source": [
    "# Show graph edges\n",
    "\n",
    "graph.edges.show()"
   ]
  },
  {
   "cell_type": "markdown",
   "metadata": {},
   "source": [
    "## Breadth First Search"
   ]
  },
  {
   "cell_type": "code",
   "execution_count": 37,
   "metadata": {},
   "outputs": [
    {
     "name": "stdout",
     "output_type": "stream",
     "text": [
      "+--------------------+--------------------+--------------------+\n",
      "|                from|                  e0|                  to|\n",
      "+--------------------+--------------------+--------------------+\n",
      "|[Recife, 8.0522° ...|[Recife, Olinda, ...|[Olinda, 7.9907° ...|\n",
      "|[Recife, 8.0522° ...|[Recife, Caruaru,...|[Caruaru, 8.2760°...|\n",
      "|[Recife, 8.0522° ...|[Recife, Tamandar...|[Tamandare, 8.757...|\n",
      "|[Recife, 8.0522° ...|[Recife, Garanhun...|[Garanhuns, 8.882...|\n",
      "|[Recife, 8.0522° ...|[Recife, Cabrobo,...|[Cabrobo, 8.5082°...|\n",
      "+--------------------+--------------------+--------------------+\n",
      "\n"
     ]
    }
   ],
   "source": [
    "# Search for favorites paths from \"Recife\"\n",
    "\n",
    "paths = graph.bfs(\"id = 'Recife'\", \"id !=  'Recife'\", edgeFilter=\"relationship = 'Favorito'\")\n",
    "paths.show()"
   ]
  },
  {
   "cell_type": "code",
   "execution_count": 7,
   "metadata": {},
   "outputs": [
    {
     "name": "stdout",
     "output_type": "stream",
     "text": [
      "+--------------------+--------------------+--------------------+\n",
      "|                from|                  e0|                  to|\n",
      "+--------------------+--------------------+--------------------+\n",
      "|[Recife, 8.0522° ...|[Recife, Gravata,...|[Gravata, 8.2116°...|\n",
      "+--------------------+--------------------+--------------------+\n",
      "\n"
     ]
    }
   ],
   "source": [
    "# Search for the best to path to \"Gravata\" from \"Recife\"\n",
    "\n",
    "paths = graph.bfs(\"id = 'Recife'\", \"id = 'Gravata'\")\n",
    "paths.show()"
   ]
  },
  {
   "cell_type": "code",
   "execution_count": 8,
   "metadata": {
    "scrolled": false
   },
   "outputs": [
    {
     "name": "stdout",
     "output_type": "stream",
     "text": [
      "+--------------------+--------------------+--------------------+\n",
      "|                from|                  e0|                  to|\n",
      "+--------------------+--------------------+--------------------+\n",
      "|[Recife, 8.0522° ...|[Recife, Gravata,...|[Gravata, 8.2116°...|\n",
      "+--------------------+--------------------+--------------------+\n",
      "\n"
     ]
    }
   ],
   "source": [
    "# Search for the path to get to \"Gravata\" from \"Recife\" that isn't dangerous\n",
    "\n",
    "paths = graph.bfs(\"id = 'Recife'\", \"id = 'Gravata'\", edgeFilter=\"relationship != 'Perigoso'\")\n",
    "paths.show()"
   ]
  },
  {
   "cell_type": "code",
   "execution_count": 9,
   "metadata": {
    "scrolled": true
   },
   "outputs": [
    {
     "name": "stdout",
     "output_type": "stream",
     "text": [
      "+--------------------+--------------------+--------------------+--------------------+--------------------+\n",
      "|                from|                  e0|                  v1|                  e1|                  to|\n",
      "+--------------------+--------------------+--------------------+--------------------+--------------------+\n",
      "|[Olinda, 7.9907° ...|[Olinda, Tamandar...|[Tamandare, 8.757...|[Tamandare, Cabro...|[Cabrobo, 8.5082°...|\n",
      "|[Olinda, 7.9907° ...|[Olinda, Buique, ...|[Buique, 8.6211° ...|[Buique, Cabrobo,...|[Cabrobo, 8.5082°...|\n",
      "+--------------------+--------------------+--------------------+--------------------+--------------------+\n",
      "\n"
     ]
    }
   ],
   "source": [
    "# Search for the best to path to \"Cabrobo\" from \"Olinda\"\n",
    "\n",
    "paths = graph.bfs(\"id = 'Olinda'\", \"id = 'Cabrobo'\")\n",
    "paths.show()"
   ]
  },
  {
   "cell_type": "code",
   "execution_count": 10,
   "metadata": {
    "scrolled": true
   },
   "outputs": [
    {
     "name": "stdout",
     "output_type": "stream",
     "text": [
      "+--------------------+--------------------+--------------------+--------------------+--------------------+\n",
      "|                from|                  e0|                  v1|                  e1|                  to|\n",
      "+--------------------+--------------------+--------------------+--------------------+--------------------+\n",
      "|[Olinda, 7.9907° ...|[Olinda, Buique, ...|[Buique, 8.6211° ...|[Buique, Floresta...|[Floresta, 8.5969...|\n",
      "+--------------------+--------------------+--------------------+--------------------+--------------------+\n",
      "\n"
     ]
    }
   ],
   "source": [
    "# Search for the best to path to \"Floresta\" from \"Olinda\"\n",
    "\n",
    "paths = graph.bfs(\"id = 'Olinda'\", \"id = 'Floresta'\")\n",
    "paths.show()"
   ]
  },
  {
   "cell_type": "markdown",
   "metadata": {},
   "source": [
    "## Find Method"
   ]
  },
  {
   "cell_type": "code",
   "execution_count": 34,
   "metadata": {
    "scrolled": false
   },
   "outputs": [
    {
     "name": "stdout",
     "output_type": "stream",
     "text": [
      "+--------------------+--------------------+--------------------+\n",
      "|                   a|                  ab|                   b|\n",
      "+--------------------+--------------------+--------------------+\n",
      "|[Recife, 8.0522° ...|[Recife, Olinda, ...|[Olinda, 7.9907° ...|\n",
      "|[Gravata, 8.2116°...|[Gravata, Recife,...|[Recife, 8.0522° ...|\n",
      "|[Caruaru, 8.2760°...|[Caruaru, Olinda,...|[Olinda, 7.9907° ...|\n",
      "|[Cabrobo, 8.5082°...|[Cabrobo, Recife,...|[Recife, 8.0522° ...|\n",
      "|[Cabrobo, 8.5082°...|[Cabrobo, Olinda,...|[Olinda, 7.9907° ...|\n",
      "|[Carpina, 7.8450°...|[Carpina, Olinda,...|[Olinda, 7.9907° ...|\n",
      "|[Garanhuns, 8.882...|[Garanhuns, Recif...|[Recife, 8.0522° ...|\n",
      "|[Floresta, 8.5969...|[Floresta, Recife...|[Recife, 8.0522° ...|\n",
      "+--------------------+--------------------+--------------------+\n",
      "\n"
     ]
    }
   ],
   "source": [
    "# Get all paths to any city that has a populations greater than 390000\n",
    "\n",
    "find_path = graph.find(\"(a)-[ab]->(b)\")\n",
    "\n",
    "find_path.filter(\"b.populacao > 390000\").show()"
   ]
  },
  {
   "cell_type": "code",
   "execution_count": 40,
   "metadata": {
    "scrolled": true
   },
   "outputs": [
    {
     "name": "stdout",
     "output_type": "stream",
     "text": [
      "+--------------------+--------------------+--------------------+--------------------+--------------------+\n",
      "|                   a|                  ab|                   b|                  bc|                   c|\n",
      "+--------------------+--------------------+--------------------+--------------------+--------------------+\n",
      "|[Gravata, 8.2116°...|[Gravata, Recife,...|[Recife, 8.0522° ...|[Recife, Cabrobo,...|[Cabrobo, 8.5082°...|\n",
      "|[Gravata, 8.2116°...|[Gravata, Recife,...|[Recife, 8.0522° ...|[Recife, Gravata,...|[Gravata, 8.2116°...|\n",
      "|[Gravata, 8.2116°...|[Gravata, Recife,...|[Recife, 8.0522° ...|[Recife, Garanhun...|[Garanhuns, 8.882...|\n",
      "|[Gravata, 8.2116°...|[Gravata, Recife,...|[Recife, 8.0522° ...|[Recife, Tamandar...|[Tamandare, 8.757...|\n",
      "|[Gravata, 8.2116°...|[Gravata, Recife,...|[Recife, 8.0522° ...|[Recife, Caruaru,...|[Caruaru, 8.2760°...|\n",
      "|[Gravata, 8.2116°...|[Gravata, Recife,...|[Recife, 8.0522° ...|[Recife, Olinda, ...|[Olinda, 7.9907° ...|\n",
      "|[Cabrobo, 8.5082°...|[Cabrobo, Recife,...|[Recife, 8.0522° ...|[Recife, Cabrobo,...|[Cabrobo, 8.5082°...|\n",
      "|[Cabrobo, 8.5082°...|[Cabrobo, Recife,...|[Recife, 8.0522° ...|[Recife, Gravata,...|[Gravata, 8.2116°...|\n",
      "|[Cabrobo, 8.5082°...|[Cabrobo, Recife,...|[Recife, 8.0522° ...|[Recife, Garanhun...|[Garanhuns, 8.882...|\n",
      "|[Cabrobo, 8.5082°...|[Cabrobo, Recife,...|[Recife, 8.0522° ...|[Recife, Tamandar...|[Tamandare, 8.757...|\n",
      "|[Cabrobo, 8.5082°...|[Cabrobo, Recife,...|[Recife, 8.0522° ...|[Recife, Caruaru,...|[Caruaru, 8.2760°...|\n",
      "|[Cabrobo, 8.5082°...|[Cabrobo, Recife,...|[Recife, 8.0522° ...|[Recife, Olinda, ...|[Olinda, 7.9907° ...|\n",
      "|[Garanhuns, 8.882...|[Garanhuns, Recif...|[Recife, 8.0522° ...|[Recife, Cabrobo,...|[Cabrobo, 8.5082°...|\n",
      "|[Garanhuns, 8.882...|[Garanhuns, Recif...|[Recife, 8.0522° ...|[Recife, Gravata,...|[Gravata, 8.2116°...|\n",
      "|[Garanhuns, 8.882...|[Garanhuns, Recif...|[Recife, 8.0522° ...|[Recife, Garanhun...|[Garanhuns, 8.882...|\n",
      "|[Garanhuns, 8.882...|[Garanhuns, Recif...|[Recife, 8.0522° ...|[Recife, Tamandar...|[Tamandare, 8.757...|\n",
      "|[Garanhuns, 8.882...|[Garanhuns, Recif...|[Recife, 8.0522° ...|[Recife, Caruaru,...|[Caruaru, 8.2760°...|\n",
      "|[Garanhuns, 8.882...|[Garanhuns, Recif...|[Recife, 8.0522° ...|[Recife, Olinda, ...|[Olinda, 7.9907° ...|\n",
      "|[Floresta, 8.5969...|[Floresta, Recife...|[Recife, 8.0522° ...|[Recife, Cabrobo,...|[Cabrobo, 8.5082°...|\n",
      "|[Floresta, 8.5969...|[Floresta, Recife...|[Recife, 8.0522° ...|[Recife, Gravata,...|[Gravata, 8.2116°...|\n",
      "+--------------------+--------------------+--------------------+--------------------+--------------------+\n",
      "only showing top 20 rows\n",
      "\n"
     ]
    }
   ],
   "source": [
    "# Get all paths to any city that has a populations greater than 1000000, and get the paths from those cities\n",
    "\n",
    "find_path = graph.find(\"(a)-[ab]->(b); (b)-[bc]->(c)\")\n",
    "\n",
    "find_path.filter(\"b.populacao > 1000000\").show()"
   ]
  },
  {
   "cell_type": "markdown",
   "metadata": {},
   "source": [
    "## FilterVertices Method"
   ]
  },
  {
   "cell_type": "code",
   "execution_count": 48,
   "metadata": {
    "scrolled": false
   },
   "outputs": [
    {
     "name": "stdout",
     "output_type": "stream",
     "text": [
      "+------+---------+-------------+---------+\n",
      "|    id| latitude|    longitude|populacao|\n",
      "+------+---------+-------------+---------+\n",
      "|Recife|8.0522° S|   34.9286° W|  1645727|\n",
      "|Olinda|7.9907° S| \"34.8416° W\"|   392482|\n",
      "+------+---------+-------------+---------+\n",
      "\n"
     ]
    }
   ],
   "source": [
    "# Get cities that have a population gretes\n",
    "\n",
    "filtered_graph = graph.filterVertices(\"populacao > 390000\").dropIsolatedVertices()\n",
    "filtered_graph.vertices.show()"
   ]
  },
  {
   "cell_type": "code",
   "execution_count": 50,
   "metadata": {},
   "outputs": [
    {
     "name": "stdout",
     "output_type": "stream",
     "text": [
      "+---------+---------+-------------+---------+\n",
      "|       id| latitude|    longitude|populacao|\n",
      "+---------+---------+-------------+---------+\n",
      "|   Olinda|7.9907° S| \"34.8416° W\"|   392482|\n",
      "|  Caruaru|8.2760° S|   35.9819° W|   361118|\n",
      "|Tamandare|8.7579° S|   35.1051° W|    23388|\n",
      "| Floresta|8.5969° S|   38.5744° W|    32873|\n",
      "|Garanhuns|8.8829° S|   36.4969° W|   139788|\n",
      "|  Gravata|8.2116° S|   35.5678° W|    84074|\n",
      "|  Carpina|7.8450° S|   35.2437° W|    83641|\n",
      "|   Buique|8.6211° S|   37.1572° W|    58378|\n",
      "|  Cabrobo|8.5082° S|   39.3103° W|    34221|\n",
      "+---------+---------+-------------+---------+\n",
      "\n"
     ]
    }
   ],
   "source": [
    "# Get cities that have a population gretes\n",
    "\n",
    "filtered_graph = graph.filterVertices(\"id != 'Recife'\").dropIsolatedVertices()\n",
    "filtered_graph.vertices.show()"
   ]
  }
 ],
 "metadata": {
  "kernelspec": {
   "display_name": "Python 3",
   "language": "python",
   "name": "python3"
  },
  "language_info": {
   "codemirror_mode": {
    "name": "ipython",
    "version": 3
   },
   "file_extension": ".py",
   "mimetype": "text/x-python",
   "name": "python",
   "nbconvert_exporter": "python",
   "pygments_lexer": "ipython3",
   "version": "3.7.6"
  }
 },
 "nbformat": 4,
 "nbformat_minor": 4
}
